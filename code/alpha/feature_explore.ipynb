{
 "cells": [
  {
   "cell_type": "code",
   "execution_count": 124,
   "metadata": {
    "collapsed": true
   },
   "outputs": [],
   "source": [
    "import pandas as pd\n",
    "from pandas import Series,DataFrame\n",
    "\n",
    "import numpy as np\n",
    "import matplotlib.pyplot as plt\n",
    "import seaborn as sns\n",
    "\n",
    "from sklearn.cluster import KMeans"
   ]
  },
  {
   "cell_type": "code",
   "execution_count": 125,
   "metadata": {
    "collapsed": true
   },
   "outputs": [],
   "source": [
    "ar_df = pd.read_csv('csv/air_reserve.csv')\n",
    "asi_df = pd.read_csv('csv/air_store_info.csv')\n",
    "avd_df = pd.read_csv('csv/air_visit_data.csv')\n",
    "hr_df = pd.read_csv('csv/hpg_reserve.csv')\n",
    "hsi_df = pd.read_csv('csv/hpg_store_info.csv')\n",
    "sir_df = pd.read_csv('csv/store_id_relation.csv')\n",
    "sample_df = pd.read_csv('csv/sample_submission.csv')\n",
    "di_df = pd.read_csv('csv/date_info.csv')"
   ]
  },
  {
   "cell_type": "code",
   "execution_count": null,
   "metadata": {
    "collapsed": true
   },
   "outputs": [],
   "source": [
    "ar_df.head()"
   ]
  },
  {
   "cell_type": "code",
   "execution_count": null,
   "metadata": {
    "collapsed": true
   },
   "outputs": [],
   "source": [
    "asi_df.head()"
   ]
  },
  {
   "cell_type": "code",
   "execution_count": null,
   "metadata": {
    "collapsed": true
   },
   "outputs": [],
   "source": [
    "avd_df.head()"
   ]
  },
  {
   "cell_type": "code",
   "execution_count": null,
   "metadata": {
    "collapsed": true
   },
   "outputs": [],
   "source": [
    "hr_df.head()"
   ]
  },
  {
   "cell_type": "code",
   "execution_count": null,
   "metadata": {
    "collapsed": true
   },
   "outputs": [],
   "source": [
    "hsi_df.head()"
   ]
  },
  {
   "cell_type": "code",
   "execution_count": null,
   "metadata": {
    "collapsed": true
   },
   "outputs": [],
   "source": [
    "sir_df.head()"
   ]
  },
  {
   "cell_type": "code",
   "execution_count": null,
   "metadata": {
    "collapsed": true
   },
   "outputs": [],
   "source": [
    "sample_df.head()"
   ]
  },
  {
   "cell_type": "code",
   "execution_count": null,
   "metadata": {
    "collapsed": true
   },
   "outputs": [],
   "source": [
    "di_df.head()"
   ]
  },
  {
   "cell_type": "code",
   "execution_count": null,
   "metadata": {
    "collapsed": true
   },
   "outputs": [],
   "source": [
    "# longitude-latitude cluster\n",
    "xh = hsi_df['longitude']\n",
    "yh = hsi_df['latitude']\n",
    "plt.scatter(xh,yh)\n",
    "plt.show()"
   ]
  },
  {
   "cell_type": "code",
   "execution_count": null,
   "metadata": {
    "collapsed": true
   },
   "outputs": [],
   "source": [
    "xa = asi_df['longitude']\n",
    "ya = asi_df['latitude']\n",
    "plt.scatter(xa,ya)\n",
    "plt.show()"
   ]
  },
  {
   "cell_type": "code",
   "execution_count": null,
   "metadata": {
    "collapsed": true
   },
   "outputs": [],
   "source": [
    "# location counting\n",
    "asi_location_df = pd.DataFrame(asi_df.air_area_name.str.split(' ', 2).tolist(), columns = ['province','city', 'street'])\n",
    "asi_df = asi_df.join(asi_location_df)\n",
    "asi_df.drop(['air_area_name'], axis=1, inplace=True)"
   ]
  },
  {
   "cell_type": "code",
   "execution_count": null,
   "metadata": {
    "collapsed": true
   },
   "outputs": [],
   "source": [
    "hpg_location_df = pd.DataFrame(hsi_df.hpg_area_name.str.split(' ', 2).tolist(), columns = ['province','city', 'street'])\n",
    "hsi_df = hsi_df.join(hpg_location_df)\n",
    "hsi_df.drop(['hpg_area_name'], axis=1, inplace=True)"
   ]
  },
  {
   "cell_type": "code",
   "execution_count": null,
   "metadata": {
    "collapsed": true
   },
   "outputs": [],
   "source": [
    "province_count = pd.concat([asi_df['province'], hsi_df['province']]).value_counts().size # 13\n",
    "city_count = pd.concat([asi_df['city'], hsi_df['city']]).value_counts().size # 85\n",
    "street_count = pd.concat([asi_df['street'], hsi_df['street']]).value_counts().size # 191\n",
    "location_total = province_count + city_count + street_count # 289\n",
    "print('location_total:', location_total)"
   ]
  },
  {
   "cell_type": "code",
   "execution_count": 131,
   "metadata": {},
   "outputs": [],
   "source": [
    "# merge air_store_info & hpg_store_info dataset\n",
    "link_df = pd.merge(asi_df, sir_df, on='air_store_id', how='outer')\n",
    "rrvf_df = pd.merge(link_df, hsi_df, on='hpg_store_id', how='outer')\n",
    "rrvf_df = rrvf_df.fillna(0)"
   ]
  },
  {
   "cell_type": "code",
   "execution_count": 132,
   "metadata": {
    "collapsed": true
   },
   "outputs": [],
   "source": [
    "# process latitude & longitude overlapping\n",
    "count_latitude_x = (rrvf_df['latitude_x'] > 0) + 0\n",
    "count_latitude_y = (rrvf_df['latitude_y'] > 0) + 0\n",
    "count_latitude = count_latitude_x + count_latitude_y\n",
    "mean_latitude = (rrvf_df['latitude_x'] + rrvf_df['latitude_y']) / count_latitude\n",
    "\n",
    "count_longitude_x = (rrvf_df['longitude_x'] > 0) + 0\n",
    "count_longitude_y = (rrvf_df['longitude_y'] > 0) + 0\n",
    "count_longitude = count_longitude_x + count_longitude_y\n",
    "mean_longitude = (rrvf_df['longitude_x'] + rrvf_df['longitude_y']) / count_longitude\n",
    "\n",
    "rrvf_df.drop(['latitude_x', 'latitude_y', 'longitude_x', 'longitude_y'], axis=1, inplace=True)"
   ]
  },
  {
   "cell_type": "code",
   "execution_count": 133,
   "metadata": {
    "collapsed": true
   },
   "outputs": [],
   "source": [
    "ll_df = pd.DataFrame({'latitude': mean_latitude, 'longitude': mean_longitude})\n",
    "rrvf_df = rrvf_df.join(ll_df)"
   ]
  },
  {
   "cell_type": "code",
   "execution_count": null,
   "metadata": {
    "collapsed": true
   },
   "outputs": [],
   "source": [
    "# counting continuous holiday duration\n",
    "record_arr = [['2016-01-01', 0]]\n",
    "record_posi = 0\n",
    "recording = True\n",
    "for index, row in di_df.iterrows():\n",
    "    if recording and row['holiday_flg'] is 1:\n",
    "        record_arr[record_posi][1] += 1\n",
    "    elif not recording and row['holiday_flg'] is 1:\n",
    "        record_posi += 1\n",
    "        record_arr.append([row['calendar_date'], 1])\n",
    "        recording = True\n",
    "    elif recording and row['holiday_flg'] is not 1:\n",
    "        recording = False\n",
    "    else:\n",
    "        pass\n",
    "record_arr "
   ]
  },
  {
   "cell_type": "code",
   "execution_count": null,
   "metadata": {},
   "outputs": [],
   "source": [
    "# cluster\n",
    "X = rrvf_df[['latitude', 'longitude']].values\n",
    "kmeans = KMeans(n_clusters=9, random_state=42)\n",
    "y_pred = kmeans.fit_predict(X)\n",
    "plt.scatter(X[:, 1], X[:, 0], c=y_pred)\n",
    "plt.show()"
   ]
  },
  {
   "cell_type": "code",
   "execution_count": 134,
   "metadata": {},
   "outputs": [
    {
     "name": "stderr",
     "output_type": "stream",
     "text": [
      "D:\\Anaconda3\\lib\\site-packages\\ipykernel_launcher.py:3: UserWarning: Boolean Series key will be reindexed to match DataFrame index.\n",
      "  This is separate from the ipykernel package so we can avoid doing imports until\n"
     ]
    }
   ],
   "source": [
    "# constrcut hpg-air genre map\n",
    "genre = rrvf_df[['air_genre_name', 'hpg_genre_name']]\n",
    "union_genre = genre[genre['air_genre_name'] != 0][genre['hpg_genre_name'] != 0]\n",
    "group_genre = union_genre.groupby(['hpg_genre_name','air_genre_name']).size()\n",
    "genre_map = []\n",
    "for hpg_genre in group_genre.index.levels[0]:\n",
    "    target_air_genre = group_genre[hpg_genre].argmax()\n",
    "    if hpg_genre == 'Italian':\n",
    "        target_air_genre = 'Italian/French'\n",
    "    genre_map.append([hpg_genre, target_air_genre])\n",
    "genre_map = np.array(genre_map)"
   ]
  },
  {
   "cell_type": "code",
   "execution_count": 135,
   "metadata": {},
   "outputs": [],
   "source": [
    "# process genre\n",
    "genre = []\n",
    "for index, row in rrvf_df.iterrows():\n",
    "    air_genre = row['air_genre_name']\n",
    "    hpg_genre = row['hpg_genre_name']\n",
    "    if air_genre != 0:\n",
    "        genre.append(air_genre)\n",
    "    elif air_genre == 0 and hpg_genre != 0:\n",
    "        target_posi = np.argwhere(genre_map == hpg_genre)\n",
    "        if target_posi.size != 0:\n",
    "            genre_name = genre_map[target_posi[0][0], 1]\n",
    "            genre.append(genre_name)\n",
    "        else:\n",
    "            genre.append(hpg_genre)\n",
    "    else:\n",
    "        pass"
   ]
  },
  {
   "cell_type": "code",
   "execution_count": 136,
   "metadata": {},
   "outputs": [
    {
     "data": {
      "text/html": [
       "<div>\n",
       "<style>\n",
       "    .dataframe thead tr:only-child th {\n",
       "        text-align: right;\n",
       "    }\n",
       "\n",
       "    .dataframe thead th {\n",
       "        text-align: left;\n",
       "    }\n",
       "\n",
       "    .dataframe tbody tr th {\n",
       "        vertical-align: top;\n",
       "    }\n",
       "</style>\n",
       "<table border=\"1\" class=\"dataframe\">\n",
       "  <thead>\n",
       "    <tr style=\"text-align: right;\">\n",
       "      <th></th>\n",
       "      <th>air_store_id</th>\n",
       "      <th>air_area_name</th>\n",
       "      <th>hpg_store_id</th>\n",
       "      <th>hpg_area_name</th>\n",
       "      <th>latitude</th>\n",
       "      <th>longitude</th>\n",
       "      <th>genre</th>\n",
       "    </tr>\n",
       "  </thead>\n",
       "  <tbody>\n",
       "    <tr>\n",
       "      <th>0</th>\n",
       "      <td>air_0f0cdeee6c9bf3d7</td>\n",
       "      <td>Hyōgo-ken Kōbe-shi Kumoidōri</td>\n",
       "      <td>0</td>\n",
       "      <td>0</td>\n",
       "      <td>34.695124</td>\n",
       "      <td>135.197852</td>\n",
       "      <td>Italian/French</td>\n",
       "    </tr>\n",
       "    <tr>\n",
       "      <th>1</th>\n",
       "      <td>air_fee8dcf4d619598e</td>\n",
       "      <td>Hyōgo-ken Kōbe-shi Kumoidōri</td>\n",
       "      <td>0</td>\n",
       "      <td>0</td>\n",
       "      <td>34.695124</td>\n",
       "      <td>135.197852</td>\n",
       "      <td>Italian/French</td>\n",
       "    </tr>\n",
       "    <tr>\n",
       "      <th>2</th>\n",
       "      <td>air_a17f0778617c76e2</td>\n",
       "      <td>Hyōgo-ken Kōbe-shi Kumoidōri</td>\n",
       "      <td>0</td>\n",
       "      <td>0</td>\n",
       "      <td>34.695124</td>\n",
       "      <td>135.197852</td>\n",
       "      <td>Italian/French</td>\n",
       "    </tr>\n",
       "    <tr>\n",
       "      <th>3</th>\n",
       "      <td>air_83db5aff8f50478e</td>\n",
       "      <td>Tōkyō-to Minato-ku Shibakōen</td>\n",
       "      <td>0</td>\n",
       "      <td>0</td>\n",
       "      <td>35.658068</td>\n",
       "      <td>139.751599</td>\n",
       "      <td>Italian/French</td>\n",
       "    </tr>\n",
       "    <tr>\n",
       "      <th>4</th>\n",
       "      <td>air_99c3eae84130c1cb</td>\n",
       "      <td>Tōkyō-to Minato-ku Shibakōen</td>\n",
       "      <td>0</td>\n",
       "      <td>0</td>\n",
       "      <td>35.658068</td>\n",
       "      <td>139.751599</td>\n",
       "      <td>Italian/French</td>\n",
       "    </tr>\n",
       "  </tbody>\n",
       "</table>\n",
       "</div>"
      ],
      "text/plain": [
       "           air_store_id                 air_area_name hpg_store_id  \\\n",
       "0  air_0f0cdeee6c9bf3d7  Hyōgo-ken Kōbe-shi Kumoidōri            0   \n",
       "1  air_fee8dcf4d619598e  Hyōgo-ken Kōbe-shi Kumoidōri            0   \n",
       "2  air_a17f0778617c76e2  Hyōgo-ken Kōbe-shi Kumoidōri            0   \n",
       "3  air_83db5aff8f50478e  Tōkyō-to Minato-ku Shibakōen            0   \n",
       "4  air_99c3eae84130c1cb  Tōkyō-to Minato-ku Shibakōen            0   \n",
       "\n",
       "  hpg_area_name   latitude   longitude           genre  \n",
       "0             0  34.695124  135.197852  Italian/French  \n",
       "1             0  34.695124  135.197852  Italian/French  \n",
       "2             0  34.695124  135.197852  Italian/French  \n",
       "3             0  35.658068  139.751599  Italian/French  \n",
       "4             0  35.658068  139.751599  Italian/French  "
      ]
     },
     "execution_count": 136,
     "metadata": {},
     "output_type": "execute_result"
    }
   ],
   "source": [
    "genre_df = pd.DataFrame(genre, columns=['genre'])\n",
    "rrvf_df = rrvf_df.join(genre_df)\n",
    "rrvf_df.drop(['air_genre_name', 'hpg_genre_name'], axis=1, inplace=True)\n",
    "rrvf_df.head()"
   ]
  },
  {
   "cell_type": "code",
   "execution_count": 141,
   "metadata": {},
   "outputs": [],
   "source": [
    "# process area_name\n",
    "area_name = []\n",
    "for index, row in rrvf_df.iterrows():\n",
    "    air_area_name = row['air_area_name']\n",
    "    hpg_area_name = row['hpg_area_name']\n",
    "    if air_area_name != 0:\n",
    "        area_name.append(air_area_name)\n",
    "    elif air_area_name == 0 and hpg_area_name != 0:\n",
    "        area_name.append(hpg_area_name)\n",
    "    else:\n",
    "        print('?????????????????????')"
   ]
  },
  {
   "cell_type": "code",
   "execution_count": 143,
   "metadata": {},
   "outputs": [
    {
     "data": {
      "text/html": [
       "<div>\n",
       "<style>\n",
       "    .dataframe thead tr:only-child th {\n",
       "        text-align: right;\n",
       "    }\n",
       "\n",
       "    .dataframe thead th {\n",
       "        text-align: left;\n",
       "    }\n",
       "\n",
       "    .dataframe tbody tr th {\n",
       "        vertical-align: top;\n",
       "    }\n",
       "</style>\n",
       "<table border=\"1\" class=\"dataframe\">\n",
       "  <thead>\n",
       "    <tr style=\"text-align: right;\">\n",
       "      <th></th>\n",
       "      <th>air_store_id</th>\n",
       "      <th>hpg_store_id</th>\n",
       "      <th>latitude</th>\n",
       "      <th>longitude</th>\n",
       "      <th>genre</th>\n",
       "      <th>area_name</th>\n",
       "    </tr>\n",
       "  </thead>\n",
       "  <tbody>\n",
       "    <tr>\n",
       "      <th>0</th>\n",
       "      <td>air_0f0cdeee6c9bf3d7</td>\n",
       "      <td>0</td>\n",
       "      <td>34.695124</td>\n",
       "      <td>135.197852</td>\n",
       "      <td>Italian/French</td>\n",
       "      <td>Hyōgo-ken Kōbe-shi Kumoidōri</td>\n",
       "    </tr>\n",
       "    <tr>\n",
       "      <th>1</th>\n",
       "      <td>air_fee8dcf4d619598e</td>\n",
       "      <td>0</td>\n",
       "      <td>34.695124</td>\n",
       "      <td>135.197852</td>\n",
       "      <td>Italian/French</td>\n",
       "      <td>Hyōgo-ken Kōbe-shi Kumoidōri</td>\n",
       "    </tr>\n",
       "    <tr>\n",
       "      <th>2</th>\n",
       "      <td>air_a17f0778617c76e2</td>\n",
       "      <td>0</td>\n",
       "      <td>34.695124</td>\n",
       "      <td>135.197852</td>\n",
       "      <td>Italian/French</td>\n",
       "      <td>Hyōgo-ken Kōbe-shi Kumoidōri</td>\n",
       "    </tr>\n",
       "    <tr>\n",
       "      <th>3</th>\n",
       "      <td>air_83db5aff8f50478e</td>\n",
       "      <td>0</td>\n",
       "      <td>35.658068</td>\n",
       "      <td>139.751599</td>\n",
       "      <td>Italian/French</td>\n",
       "      <td>Tōkyō-to Minato-ku Shibakōen</td>\n",
       "    </tr>\n",
       "    <tr>\n",
       "      <th>4</th>\n",
       "      <td>air_99c3eae84130c1cb</td>\n",
       "      <td>0</td>\n",
       "      <td>35.658068</td>\n",
       "      <td>139.751599</td>\n",
       "      <td>Italian/French</td>\n",
       "      <td>Tōkyō-to Minato-ku Shibakōen</td>\n",
       "    </tr>\n",
       "  </tbody>\n",
       "</table>\n",
       "</div>"
      ],
      "text/plain": [
       "           air_store_id hpg_store_id   latitude   longitude           genre  \\\n",
       "0  air_0f0cdeee6c9bf3d7            0  34.695124  135.197852  Italian/French   \n",
       "1  air_fee8dcf4d619598e            0  34.695124  135.197852  Italian/French   \n",
       "2  air_a17f0778617c76e2            0  34.695124  135.197852  Italian/French   \n",
       "3  air_83db5aff8f50478e            0  35.658068  139.751599  Italian/French   \n",
       "4  air_99c3eae84130c1cb            0  35.658068  139.751599  Italian/French   \n",
       "\n",
       "                      area_name  \n",
       "0  Hyōgo-ken Kōbe-shi Kumoidōri  \n",
       "1  Hyōgo-ken Kōbe-shi Kumoidōri  \n",
       "2  Hyōgo-ken Kōbe-shi Kumoidōri  \n",
       "3  Tōkyō-to Minato-ku Shibakōen  \n",
       "4  Tōkyō-to Minato-ku Shibakōen  "
      ]
     },
     "execution_count": 143,
     "metadata": {},
     "output_type": "execute_result"
    }
   ],
   "source": [
    "area_name_df = pd.DataFrame(area_name, columns=['area_name'])\n",
    "rrvf_df = rrvf_df.join(area_name_df)\n",
    "rrvf_df.drop(['air_area_name', 'hpg_area_name'], axis=1, inplace=True)\n",
    "rrvf_df.head()"
   ]
  },
  {
   "cell_type": "code",
   "execution_count": 145,
   "metadata": {},
   "outputs": [
    {
     "data": {
      "text/html": [
       "<div>\n",
       "<style>\n",
       "    .dataframe thead tr:only-child th {\n",
       "        text-align: right;\n",
       "    }\n",
       "\n",
       "    .dataframe thead th {\n",
       "        text-align: left;\n",
       "    }\n",
       "\n",
       "    .dataframe tbody tr th {\n",
       "        vertical-align: top;\n",
       "    }\n",
       "</style>\n",
       "<table border=\"1\" class=\"dataframe\">\n",
       "  <thead>\n",
       "    <tr style=\"text-align: right;\">\n",
       "      <th></th>\n",
       "      <th>Unnamed: 0</th>\n",
       "      <th>air_store_id</th>\n",
       "      <th>hpg_store_id</th>\n",
       "      <th>genre</th>\n",
       "      <th>area_name</th>\n",
       "    </tr>\n",
       "  </thead>\n",
       "  <tbody>\n",
       "    <tr>\n",
       "      <th>0</th>\n",
       "      <td>0</td>\n",
       "      <td>air_0f0cdeee6c9bf3d7</td>\n",
       "      <td>0</td>\n",
       "      <td>Italian/French</td>\n",
       "      <td>Hyōgo-ken Kōbe-shi Kumoidōri</td>\n",
       "    </tr>\n",
       "    <tr>\n",
       "      <th>1</th>\n",
       "      <td>1</td>\n",
       "      <td>air_fee8dcf4d619598e</td>\n",
       "      <td>0</td>\n",
       "      <td>Italian/French</td>\n",
       "      <td>Hyōgo-ken Kōbe-shi Kumoidōri</td>\n",
       "    </tr>\n",
       "    <tr>\n",
       "      <th>2</th>\n",
       "      <td>2</td>\n",
       "      <td>air_a17f0778617c76e2</td>\n",
       "      <td>0</td>\n",
       "      <td>Italian/French</td>\n",
       "      <td>Hyōgo-ken Kōbe-shi Kumoidōri</td>\n",
       "    </tr>\n",
       "    <tr>\n",
       "      <th>3</th>\n",
       "      <td>3</td>\n",
       "      <td>air_83db5aff8f50478e</td>\n",
       "      <td>0</td>\n",
       "      <td>Italian/French</td>\n",
       "      <td>Tōkyō-to Minato-ku Shibakōen</td>\n",
       "    </tr>\n",
       "    <tr>\n",
       "      <th>4</th>\n",
       "      <td>4</td>\n",
       "      <td>air_99c3eae84130c1cb</td>\n",
       "      <td>0</td>\n",
       "      <td>Italian/French</td>\n",
       "      <td>Tōkyō-to Minato-ku Shibakōen</td>\n",
       "    </tr>\n",
       "  </tbody>\n",
       "</table>\n",
       "</div>"
      ],
      "text/plain": [
       "   Unnamed: 0          air_store_id hpg_store_id           genre  \\\n",
       "0           0  air_0f0cdeee6c9bf3d7            0  Italian/French   \n",
       "1           1  air_fee8dcf4d619598e            0  Italian/French   \n",
       "2           2  air_a17f0778617c76e2            0  Italian/French   \n",
       "3           3  air_83db5aff8f50478e            0  Italian/French   \n",
       "4           4  air_99c3eae84130c1cb            0  Italian/French   \n",
       "\n",
       "                      area_name  \n",
       "0  Hyōgo-ken Kōbe-shi Kumoidōri  \n",
       "1  Hyōgo-ken Kōbe-shi Kumoidōri  \n",
       "2  Hyōgo-ken Kōbe-shi Kumoidōri  \n",
       "3  Tōkyō-to Minato-ku Shibakōen  \n",
       "4  Tōkyō-to Minato-ku Shibakōen  "
      ]
     },
     "execution_count": 145,
     "metadata": {},
     "output_type": "execute_result"
    }
   ],
   "source": [
    "otherrrvf_df = pd.read_csv('rrvf.csv')\n",
    "otherrrvf_df.head()"
   ]
  },
  {
   "cell_type": "code",
   "execution_count": null,
   "metadata": {
    "collapsed": true
   },
   "outputs": [],
   "source": []
  }
 ],
 "metadata": {
  "kernelspec": {
   "display_name": "Python 3",
   "language": "python",
   "name": "python3"
  },
  "language_info": {
   "codemirror_mode": {
    "name": "ipython",
    "version": 3
   },
   "file_extension": ".py",
   "mimetype": "text/x-python",
   "name": "python",
   "nbconvert_exporter": "python",
   "pygments_lexer": "ipython3",
   "version": "3.6.3"
  }
 },
 "nbformat": 4,
 "nbformat_minor": 2
}
