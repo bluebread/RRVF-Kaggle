{
 "cells": [
  {
   "cell_type": "code",
   "execution_count": 35,
   "metadata": {
    "collapsed": true
   },
   "outputs": [],
   "source": [
    "import pandas as pd\n",
    "from pandas import Series,DataFrame\n",
    "\n",
    "import numpy as np\n",
    "import matplotlib.pyplot as plt\n",
    "import seaborn as sns"
   ]
  },
  {
   "cell_type": "code",
   "execution_count": 36,
   "metadata": {
    "collapsed": true
   },
   "outputs": [],
   "source": [
    "ar_df = pd.read_csv('csv/air_reserve.csv')\n",
    "asi_df = pd.read_csv('csv/air_store_info.csv')\n",
    "avd_df = pd.read_csv('csv/air_visit_data.csv')\n",
    "hr_df = pd.read_csv('csv/hpg_reserve.csv')\n",
    "hsi_df = pd.read_csv('csv/hpg_store_info.csv')\n",
    "sir_df = pd.read_csv('csv/store_id_relation.csv')\n",
    "sample_df = pd.read_csv('csv/sample_submission.csv')"
   ]
  },
  {
   "cell_type": "code",
   "execution_count": null,
   "metadata": {
    "collapsed": true
   },
   "outputs": [],
   "source": [
    "ar_df.info()"
   ]
  },
  {
   "cell_type": "code",
   "execution_count": null,
   "metadata": {
    "collapsed": true
   },
   "outputs": [],
   "source": [
    "asi_df.head()"
   ]
  },
  {
   "cell_type": "code",
   "execution_count": null,
   "metadata": {
    "collapsed": true
   },
   "outputs": [],
   "source": [
    "avd_df.head()"
   ]
  },
  {
   "cell_type": "code",
   "execution_count": null,
   "metadata": {
    "collapsed": true
   },
   "outputs": [],
   "source": [
    "hr_df.head()"
   ]
  },
  {
   "cell_type": "code",
   "execution_count": 22,
   "metadata": {},
   "outputs": [
    {
     "data": {
      "text/html": [
       "<div>\n",
       "<style>\n",
       "    .dataframe thead tr:only-child th {\n",
       "        text-align: right;\n",
       "    }\n",
       "\n",
       "    .dataframe thead th {\n",
       "        text-align: left;\n",
       "    }\n",
       "\n",
       "    .dataframe tbody tr th {\n",
       "        vertical-align: top;\n",
       "    }\n",
       "</style>\n",
       "<table border=\"1\" class=\"dataframe\">\n",
       "  <thead>\n",
       "    <tr style=\"text-align: right;\">\n",
       "      <th></th>\n",
       "      <th>hpg_store_id</th>\n",
       "      <th>hpg_genre_name</th>\n",
       "      <th>hpg_area_name</th>\n",
       "      <th>latitude</th>\n",
       "      <th>longitude</th>\n",
       "    </tr>\n",
       "  </thead>\n",
       "  <tbody>\n",
       "    <tr>\n",
       "      <th>0</th>\n",
       "      <td>hpg_6622b62385aec8bf</td>\n",
       "      <td>Japanese style</td>\n",
       "      <td>Tōkyō-to Setagaya-ku Taishidō</td>\n",
       "      <td>35.643675</td>\n",
       "      <td>139.668221</td>\n",
       "    </tr>\n",
       "    <tr>\n",
       "      <th>1</th>\n",
       "      <td>hpg_e9e068dd49c5fa00</td>\n",
       "      <td>Japanese style</td>\n",
       "      <td>Tōkyō-to Setagaya-ku Taishidō</td>\n",
       "      <td>35.643675</td>\n",
       "      <td>139.668221</td>\n",
       "    </tr>\n",
       "    <tr>\n",
       "      <th>2</th>\n",
       "      <td>hpg_2976f7acb4b3a3bc</td>\n",
       "      <td>Japanese style</td>\n",
       "      <td>Tōkyō-to Setagaya-ku Taishidō</td>\n",
       "      <td>35.643675</td>\n",
       "      <td>139.668221</td>\n",
       "    </tr>\n",
       "    <tr>\n",
       "      <th>3</th>\n",
       "      <td>hpg_e51a522e098f024c</td>\n",
       "      <td>Japanese style</td>\n",
       "      <td>Tōkyō-to Setagaya-ku Taishidō</td>\n",
       "      <td>35.643675</td>\n",
       "      <td>139.668221</td>\n",
       "    </tr>\n",
       "    <tr>\n",
       "      <th>4</th>\n",
       "      <td>hpg_e3d0e1519894f275</td>\n",
       "      <td>Japanese style</td>\n",
       "      <td>Tōkyō-to Setagaya-ku Taishidō</td>\n",
       "      <td>35.643675</td>\n",
       "      <td>139.668221</td>\n",
       "    </tr>\n",
       "  </tbody>\n",
       "</table>\n",
       "</div>"
      ],
      "text/plain": [
       "           hpg_store_id  hpg_genre_name                  hpg_area_name  \\\n",
       "0  hpg_6622b62385aec8bf  Japanese style  Tōkyō-to Setagaya-ku Taishidō   \n",
       "1  hpg_e9e068dd49c5fa00  Japanese style  Tōkyō-to Setagaya-ku Taishidō   \n",
       "2  hpg_2976f7acb4b3a3bc  Japanese style  Tōkyō-to Setagaya-ku Taishidō   \n",
       "3  hpg_e51a522e098f024c  Japanese style  Tōkyō-to Setagaya-ku Taishidō   \n",
       "4  hpg_e3d0e1519894f275  Japanese style  Tōkyō-to Setagaya-ku Taishidō   \n",
       "\n",
       "    latitude   longitude  \n",
       "0  35.643675  139.668221  \n",
       "1  35.643675  139.668221  \n",
       "2  35.643675  139.668221  \n",
       "3  35.643675  139.668221  \n",
       "4  35.643675  139.668221  "
      ]
     },
     "execution_count": 22,
     "metadata": {},
     "output_type": "execute_result"
    }
   ],
   "source": [
    "hsi_df.head()"
   ]
  },
  {
   "cell_type": "code",
   "execution_count": null,
   "metadata": {
    "collapsed": true
   },
   "outputs": [],
   "source": [
    "sir_df.head()"
   ]
  },
  {
   "cell_type": "code",
   "execution_count": null,
   "metadata": {
    "collapsed": true
   },
   "outputs": [],
   "source": [
    "sample_df.head()"
   ]
  },
  {
   "cell_type": "code",
   "execution_count": null,
   "metadata": {
    "collapsed": true
   },
   "outputs": [],
   "source": [
    "xh = hsi_df['longitude']\n",
    "yh = hsi_df['latitude']\n",
    "plt.scatter(xh,yh)\n",
    "plt.show()"
   ]
  },
  {
   "cell_type": "code",
   "execution_count": null,
   "metadata": {
    "collapsed": true
   },
   "outputs": [],
   "source": [
    "xa = asi_df['longitude']\n",
    "ya = asi_df['latitude']\n",
    "plt.scatter(xa,ya)\n",
    "plt.show()"
   ]
  },
  {
   "cell_type": "code",
   "execution_count": 37,
   "metadata": {
    "collapsed": true
   },
   "outputs": [],
   "source": [
    "asi_location_df = pd.DataFrame(asi_df.air_area_name.str.split(' ', 2).tolist(), columns = ['province','city', 'street'])\n",
    "asi_df = asi_df.join(asi_location_df)\n",
    "asi_df.drop(['air_area_name'], axis=1, inplace=True)"
   ]
  },
  {
   "cell_type": "code",
   "execution_count": 58,
   "metadata": {},
   "outputs": [
    {
     "name": "stdout",
     "output_type": "stream",
     "text": [
      "55\n"
     ]
    }
   ],
   "source": [
    "asi_province = asi_df['province'].value_counts()\n",
    "asi_city = asi_df['city'].value_counts()\n",
    "asi_street = asi_df['street'].value_counts()\n",
    "print(asi_city.size)"
   ]
  },
  {
   "cell_type": "code",
   "execution_count": 39,
   "metadata": {},
   "outputs": [],
   "source": [
    "hpg_location_df = pd.DataFrame(hsi_df.hpg_area_name.str.split(' ', 2).tolist(), columns = ['province','city', 'street'])\n",
    "hsi_df = hsi_df.join(hpg_location_df)\n",
    "hsi_df.drop(['hpg_area_name'], axis=1, inplace=True)"
   ]
  },
  {
   "cell_type": "code",
   "execution_count": 56,
   "metadata": {},
   "outputs": [
    {
     "name": "stdout",
     "output_type": "stream",
     "text": [
      "Ōsaka-shi               315\n",
      "Shinjuku-ku             294\n",
      "Chūō-ku                 284\n",
      "Fukuoka-shi             257\n",
      "Minato-ku               241\n",
      "Sapporo-shi             221\n",
      "Hiroshima-shi           195\n",
      "Kōbe-shi                192\n",
      "Shibuya-ku              185\n",
      "Prefecture              145\n",
      "Toshima-ku              137\n",
      "Sendai-shi              132\n",
      "None                    126\n",
      "Hachiōji-shi            114\n",
      "Niigata-shi             111\n",
      "Taitō-ku                100\n",
      "Hamamatsu-shi            90\n",
      "Chiyoda-ku               89\n",
      "Sumida-ku                86\n",
      "Shizuoka-shi             84\n",
      "Kitakyūshū-shi           84\n",
      "Machida-shi              74\n",
      "Hino-shi                 65\n",
      "Himeji-shi               63\n",
      "Yokohama-shi             61\n",
      "Sakai-shi                60\n",
      "Kōtō-ku                  53\n",
      "Bunkyō-ku                53\n",
      "Adachi-ku                52\n",
      "Asahikawa-shi            45\n",
      "                       ... \n",
      "Akashi-shi               22\n",
      "Kokubunji-shi            22\n",
      "Takatsuki-shi            20\n",
      "Hakodate-shi             17\n",
      "Amagasaki-shi            17\n",
      "Shinagawa-ku             17\n",
      "Tokachi-gun              14\n",
      "Shimada-shi              13\n",
      "Nishitōkyō-shi           12\n",
      "Niiza-shi                11\n",
      "Meguro-ku                11\n",
      "Kaizuka-shi              11\n",
      "Tama-shi                 11\n",
      "Higashihiroshima-shi     10\n",
      "Suginami-ku               9\n",
      "Nishinomiya-shi           9\n",
      "Ibaraki-shi               9\n",
      "Fussa-shi                 7\n",
      "Chikushino-shi            5\n",
      "Koganei-shi               4\n",
      "Itabashi-ku               4\n",
      "Ōsaki-shi                 4\n",
      "Jōetsu-shi                3\n",
      "Shiogama-shi              3\n",
      "Iizuka-shi                2\n",
      "Fujinomiya-shi            2\n",
      "Itō-shi                   2\n",
      "Shibata-shi               2\n",
      "Ashibetsu-shi             1\n",
      "Minoo-shi                 1\n",
      "Name: city, Length: 72, dtype: int64\n"
     ]
    }
   ],
   "source": [
    "hpg_province = hsi_df['province'].value_counts()\n",
    "hpg_city = hsi_df['city'].value_counts()\n",
    "hpg_street = hsi_df['street'].value_counts()\n",
    "print(hpg_city)"
   ]
  },
  {
   "cell_type": "code",
   "execution_count": 50,
   "metadata": {},
   "outputs": [
    {
     "name": "stdout",
     "output_type": "stream",
     "text": [
      "loaction_total: 350\n"
     ]
    }
   ],
   "source": [
    "province_count = pd.concat([asi_province, hpg_province]).size # 22\n",
    "city_count = pd.concat([asi_city, hpg_city]).size # 127\n",
    "street_count = pd.concat([asi_street, hpg_street]).size # 201\n",
    "loaction_total = province_count + city_count + street_count # 350\n",
    "print('loaction_total:', loaction_total)"
   ]
  },
  {
   "cell_type": "code",
   "execution_count": null,
   "metadata": {
    "collapsed": true
   },
   "outputs": [],
   "source": []
  }
 ],
 "metadata": {
  "kernelspec": {
   "display_name": "Python 3",
   "language": "python",
   "name": "python3"
  },
  "language_info": {
   "codemirror_mode": {
    "name": "ipython",
    "version": 3
   },
   "file_extension": ".py",
   "mimetype": "text/x-python",
   "name": "python",
   "nbconvert_exporter": "python",
   "pygments_lexer": "ipython3",
   "version": "3.6.3"
  }
 },
 "nbformat": 4,
 "nbformat_minor": 2
}
